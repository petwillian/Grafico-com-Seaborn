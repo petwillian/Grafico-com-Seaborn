{
  "nbformat": 4,
  "nbformat_minor": 0,
  "metadata": {
    "colab": {
      "provenance": []
    },
    "kernelspec": {
      "name": "python3",
      "display_name": "Python 3"
    },
    "language_info": {
      "name": "python"
    }
  },
  "cells": [
    {
      "cell_type": "code",
      "execution_count": null,
      "metadata": {
        "id": "3QFcWgQhGsAX"
      },
      "outputs": [],
      "source": [
        "!pip install --upgrade pip setuptools wheel"
      ]
    },
    {
      "cell_type": "code",
      "source": [
        "!pip install seaborn --prefer-binary"
      ],
      "metadata": {
        "id": "s8CbMIXqNF4J"
      },
      "execution_count": null,
      "outputs": []
    },
    {
      "cell_type": "code",
      "source": [
        "!pip freeze > requirements.txt"
      ],
      "metadata": {
        "id": "FMHTx4fYNc2y"
      },
      "execution_count": 3,
      "outputs": []
    },
    {
      "cell_type": "markdown",
      "source": [
        "Gráfico 01"
      ],
      "metadata": {
        "id": "Z8S1OU63da5m"
      }
    },
    {
      "cell_type": "code",
      "source": [
        "import seaborn as sns\n",
        "import pandas as pd\n",
        "import matplotlib.pyplot as plt\n",
        "\n",
        "sns.set_style('whitegrid') # outros estilo como (darkrid, whitegrid, dark, white, ticks)\n",
        "\n",
        "ados = { 'Amostra A': [1, 4, 2, 3],\n",
        "          'Amostra B': [2, 8, 4, 6],\n",
        "          'Amostra C': [4, 16, 8, 12]\n",
        "         }\n",
        "indices = [1, 2, 3, 4]\n",
        "\n",
        "df = pd.DataFrame(data=dados, index=indices)\n",
        "\n",
        "plot = sns.lineplot(df)\n",
        "\n",
        "plot.set_title('Titulo do Gráfico')\n",
        "plot.set_xlabel('Label X')\n",
        "plot.set_ylabel('Label Y')\n",
        "\n",
        "\n",
        "plt.show()"
      ],
      "metadata": {
        "id": "YhazVRAONh1z"
      },
      "execution_count": null,
      "outputs": []
    },
    {
      "cell_type": "markdown",
      "source": [
        "Gráfico de barra com Seaborn"
      ],
      "metadata": {
        "id": "YeVdhjCkgeuo"
      }
    },
    {
      "cell_type": "code",
      "source": [
        "import seaborn as sns\n",
        "import pandas as pd\n",
        "import matplotlib.pyplot as plt\n",
        "\n",
        "dados = {'Frutas': ['Laranja', 'Melancia', 'Manga', 'Jaca'],\n",
        "         'Quantidades': [60, 100, 85, 30]\n",
        "        }\n",
        "df = pd.DataFrame(data=dados)\n",
        "\n",
        "sns.barplot(df, x='Frutas', y='Quantidades')\n",
        "\n",
        "plt.show()"
      ],
      "metadata": {
        "id": "q3U5KgpVNhwE"
      },
      "execution_count": null,
      "outputs": []
    },
    {
      "cell_type": "markdown",
      "source": [
        "Histrograma com Seaborn"
      ],
      "metadata": {
        "id": "17jSP9B_g4tB"
      }
    },
    {
      "cell_type": "code",
      "source": [
        "import seaborn as sns\n",
        "import pandas as pd\n",
        "import matplotlib.pyplot as plt\n",
        "import numpy as np\n",
        "\n",
        "pesquisa = np.random.normal(170, 10, 250)\n",
        "\n",
        "df = pd.DataFrame(data=pesquisa)\n",
        "\n",
        "sns.histplot(df, bins=8, linewidth=0.5, edgecolor='#ffffff', legend=False)\n",
        "\n",
        "plt.show()"
      ],
      "metadata": {
        "id": "so_dgL8WNhqI"
      },
      "execution_count": null,
      "outputs": []
    },
    {
      "cell_type": "markdown",
      "source": [
        "Gráfico de Pizza com Seaborn"
      ],
      "metadata": {
        "id": "JQ1eUY48iPsZ"
      }
    },
    {
      "cell_type": "code",
      "source": [
        "import seaborn as sns\n",
        "import matplotlib.pyplot as plt\n",
        "\n",
        "labels = ['Uva', 'Morango', 'Abacaxi', 'Mamão']\n",
        "porcentagens = [15, 30, 45, 10]\n",
        "\n",
        "cores = sns.color_palette('pastel')[0:5]\n",
        "\n",
        "plt.pie(porcentagens, colors=cores, labels=labels, autopct = '%1.2f%%')\n",
        "\n",
        "plt.show()"
      ],
      "metadata": {
        "id": "Ac3ocGNuNhii"
      },
      "execution_count": null,
      "outputs": []
    },
    {
      "cell_type": "code",
      "source": [
        "cores"
      ],
      "metadata": {
        "id": "0XBpsaIukjEj"
      },
      "execution_count": null,
      "outputs": []
    },
    {
      "cell_type": "markdown",
      "source": [
        "Salvando imagem do Gráfico"
      ],
      "metadata": {
        "id": "sagh6NWxjx-b"
      }
    },
    {
      "cell_type": "code",
      "source": [
        "import seaborn as sns\n",
        "import matplotlib.pyplot as plt\n",
        "from pathlib import Path\n",
        "\n",
        "labels = ['Uva', 'Morango', 'Abacaxi', 'Mamão']\n",
        "porcentagens = [15, 30, 45, 10]\n",
        "\n",
        "cores = sns.color_palette('pastel')[0:5]\n",
        "\n",
        "plt.pie(porcentagens, colors=cores, labels=labels, autopct = '%1.2f%%')\n",
        "\n",
        "plt.savefig('meu_grafico.png')\n",
        "\n",
        "plt.show()"
      ],
      "metadata": {
        "id": "qjS3icx8lgJK"
      },
      "execution_count": null,
      "outputs": []
    },
    {
      "cell_type": "code",
      "source": [
        "# segundo exemplo"
      ],
      "metadata": {
        "id": "_pWNntyOm1QD"
      },
      "execution_count": null,
      "outputs": []
    },
    {
      "cell_type": "code",
      "source": [
        "import seaborn as sns\n",
        "import matplotlib.pyplot as plt\n",
        "from pathlib import Path\n",
        "\n",
        "labels = ['Uva', 'Morango', 'Abacaxi', 'Mamão']\n",
        "porcentagens = [15, 30, 45, 10]\n",
        "\n",
        "cores = sns.color_palette('pastel')[0:5]\n",
        "\n",
        "plt.pie(porcentagens, colors=cores, labels=labels, autopct = '%1.2f%%')\n",
        "\n",
        "plt.savefig('meu_grafico2.png', transparent = True, dpi = 150, bbox_inches = 'tight')\n",
        "\n",
        "plt.show()"
      ],
      "metadata": {
        "colab": {
          "base_uri": "https://localhost:8080/",
          "height": 406
        },
        "id": "ZjDbBgO4jxoK",
        "outputId": "1c658fb5-8636-4b15-9a6f-2a8c29d28449"
      },
      "execution_count": 26,
      "outputs": [
        {
          "output_type": "display_data",
          "data": {
            "text/plain": [
              "<Figure size 640x480 with 1 Axes>"
            ],
            "image/png": "[encoded data removed]"
          },
          "metadata": {}
        }
      ]
    }
  ]
}